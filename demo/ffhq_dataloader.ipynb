{
 "cells": [
  {
   "cell_type": "markdown",
   "metadata": {},
   "source": [
    "This notebook tests the FFHQ dataloader including the preprocessing method."
   ]
  },
  {
   "cell_type": "code",
   "execution_count": null,
   "metadata": {},
   "outputs": [],
   "source": [
    "from src.dataloader.ffhq import FFHQ"
   ]
  },
  {
   "cell_type": "code",
   "execution_count": null,
   "metadata": {},
   "outputs": [],
   "source": [
    "# Configuration\n",
    "IMG_DIR = \"../data/ffhq/images1024x1024/\"\n",
    "PT_DIR = \"../data/ffhq/pt_images/\"\n",
    "ATTR_PATH = \"../data/ffhq/ffhq_smile_scores.json\""
   ]
  },
  {
   "cell_type": "code",
   "execution_count": null,
   "metadata": {},
   "outputs": [],
   "source": [
    "ffhq_dataset = FFHQ(IMG_DIR, PT_DIR, ATTR_PATH)"
   ]
  },
  {
   "cell_type": "markdown",
   "metadata": {},
   "source": [
    "Check how many images are classified in each respective class."
   ]
  },
  {
   "cell_type": "code",
   "execution_count": null,
   "metadata": {},
   "outputs": [],
   "source": [
    "import json\n",
    "\n",
    "smile_scores = json.load(open(ATTR_PATH, \"r\"))\n",
    "len(smile_scores)"
   ]
  },
  {
   "cell_type": "code",
   "execution_count": null,
   "metadata": {},
   "outputs": [],
   "source": [
    "# get the number with smile scores >= 4\n",
    "smile_scores = {k: v for k, v in smile_scores.items() if v >=4}\n",
    "len(smile_scores)"
   ]
  },
  {
   "cell_type": "code",
   "execution_count": null,
   "metadata": {},
   "outputs": [],
   "source": [
    "# convert smile values to integers by rounding\n",
    "smile_scores_round = {}\n",
    "\n",
    "for key in smile_scores.keys():\n",
    "    smile_scores_round[key] = round(smile_scores[key])\n",
    "\n",
    "# get counts of each smile value\n",
    "smile_counts = {\n",
    "    0: 0,\n",
    "    1: 0,\n",
    "    2: 0,\n",
    "    3: 0,\n",
    "    4: 0,\n",
    "    5: 0,\n",
    "}\n",
    "\n",
    "for key in smile_scores_round.keys():\n",
    "    smile_counts[smile_scores_round[key]] += 1"
   ]
  },
  {
   "cell_type": "code",
   "execution_count": null,
   "metadata": {},
   "outputs": [],
   "source": [
    "smile_counts"
   ]
  },
  {
   "cell_type": "code",
   "execution_count": null,
   "metadata": {},
   "outputs": [],
   "source": [
    "print(\"Classes 0-2: \", smile_counts[0] + smile_counts[1] + smile_counts[2])\n",
    "print(\"Classes 3-5: \", smile_counts[3] + smile_counts[4] + smile_counts[5])"
   ]
  }
 ],
 "metadata": {
  "kernelspec": {
   "display_name": "optdif1",
   "language": "python",
   "name": "python3"
  },
  "language_info": {
   "codemirror_mode": {
    "name": "ipython",
    "version": 3
   },
   "file_extension": ".py",
   "mimetype": "text/x-python",
   "name": "python",
   "nbconvert_exporter": "python",
   "pygments_lexer": "ipython3",
   "version": "3.12.9"
  }
 },
 "nbformat": 4,
 "nbformat_minor": 2
}
