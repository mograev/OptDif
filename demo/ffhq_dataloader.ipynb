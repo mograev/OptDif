{
 "cells": [
  {
   "cell_type": "markdown",
   "metadata": {},
   "source": [
    "This notebook tests the FFHQ dataloader including the preprocessing method."
   ]
  },
  {
   "cell_type": "code",
   "execution_count": 1,
   "metadata": {},
   "outputs": [],
   "source": [
    "from src.dataloader.ffhq import FFHQ"
   ]
  },
  {
   "cell_type": "code",
   "execution_count": 2,
   "metadata": {},
   "outputs": [],
   "source": [
    "# Configuration\n",
    "IMG_DIR = \"../data/ffhq/images1024x1024/\"\n",
    "PT_DIR = \"../data/ffhq/pt_images/\"\n",
    "ATTR_PATH = \"../data/ffhq/ffhq_smile_scores.json\""
   ]
  },
  {
   "cell_type": "code",
   "execution_count": 6,
   "metadata": {},
   "outputs": [],
   "source": [
    "ffhq_dataset = FFHQ(IMG_DIR, PT_DIR, ATTR_PATH)"
   ]
  },
  {
   "cell_type": "code",
   "execution_count": 7,
   "metadata": {},
   "outputs": [
    {
     "data": {
      "text/plain": [
       "(tensor([[[-1.0000, -1.0000, -0.9922,  ..., -1.0000, -1.0000, -1.0000],\n",
       "          [-1.0000, -1.0000, -1.0000,  ..., -1.0000, -1.0000, -1.0000],\n",
       "          [-1.0000, -1.0000, -1.0000,  ..., -1.0000, -1.0000, -1.0000],\n",
       "          ...,\n",
       "          [-0.8275, -0.8275, -0.8275,  ...,  0.0353,  0.0353,  0.0353],\n",
       "          [-0.8588, -0.8510, -0.8431,  ...,  0.0588,  0.0510,  0.0353],\n",
       "          [-0.8745, -0.8824, -0.8588,  ...,  0.0353,  0.0588,  0.0431]],\n",
       " \n",
       "         [[ 0.0275,  0.0039,  0.0196,  ..., -0.0745, -0.0824, -0.0902],\n",
       "          [ 0.0196,  0.0118,  0.0275,  ..., -0.0902, -0.0980, -0.0980],\n",
       "          [ 0.0196,  0.0039,  0.0118,  ..., -0.1216, -0.1059, -0.1137],\n",
       "          ...,\n",
       "          [ 0.1922,  0.2000,  0.2078,  ...,  0.2314,  0.2157,  0.2157],\n",
       "          [ 0.1608,  0.1765,  0.1922,  ...,  0.2314,  0.2235,  0.2235],\n",
       "          [ 0.1529,  0.1608,  0.1608,  ...,  0.2235,  0.2392,  0.2314]],\n",
       " \n",
       "         [[ 0.1451,  0.1294,  0.1451,  ...,  0.2078,  0.2000,  0.1765],\n",
       "          [ 0.1529,  0.1373,  0.1608,  ...,  0.1843,  0.1843,  0.1843],\n",
       "          [ 0.1529,  0.1294,  0.1216,  ...,  0.1843,  0.1922,  0.1922],\n",
       "          ...,\n",
       "          [ 0.3255,  0.3255,  0.3333,  ...,  0.2392,  0.2549,  0.2627],\n",
       "          [ 0.3020,  0.3020,  0.3098,  ...,  0.2627,  0.2706,  0.2706],\n",
       "          [ 0.2941,  0.2941,  0.3098,  ...,  0.2392,  0.2863,  0.2863]]]),\n",
       " 0.25894145388156176)"
      ]
     },
     "execution_count": 7,
     "metadata": {},
     "output_type": "execute_result"
    }
   ],
   "source": [
    "ffhq_dataset[0]"
   ]
  },
  {
   "cell_type": "markdown",
   "metadata": {},
   "source": [
    "Check how many images are classified in each respective class."
   ]
  },
  {
   "cell_type": "code",
   "execution_count": 10,
   "metadata": {},
   "outputs": [
    {
     "data": {
      "text/plain": [
       "70000"
      ]
     },
     "execution_count": 10,
     "metadata": {},
     "output_type": "execute_result"
    }
   ],
   "source": [
    "import json\n",
    "\n",
    "smile_scores = json.load(open(ATTR_PATH, \"r\"))\n",
    "len(smile_scores)"
   ]
  },
  {
   "cell_type": "code",
   "execution_count": 13,
   "metadata": {},
   "outputs": [],
   "source": [
    "# convert smile values to integers by rounding\n",
    "smile_scores_round = {}\n",
    "\n",
    "for key in smile_scores.keys():\n",
    "    smile_scores_round[key] = round(smile_scores[key])\n",
    "\n",
    "# get counts of each smile value\n",
    "smile_counts = {\n",
    "    0: 0,\n",
    "    1: 0,\n",
    "    2: 0,\n",
    "    3: 0,\n",
    "    4: 0,\n",
    "    5: 0,\n",
    "}\n",
    "\n",
    "for key in smile_scores_round.keys():\n",
    "    smile_counts[smile_scores_round[key]] += 1"
   ]
  },
  {
   "cell_type": "code",
   "execution_count": 14,
   "metadata": {},
   "outputs": [
    {
     "data": {
      "text/plain": [
       "{0: 16979, 1: 21675, 2: 14346, 3: 15365, 4: 1624, 5: 11}"
      ]
     },
     "execution_count": 14,
     "metadata": {},
     "output_type": "execute_result"
    }
   ],
   "source": [
    "smile_counts"
   ]
  },
  {
   "cell_type": "code",
   "execution_count": 15,
   "metadata": {},
   "outputs": [
    {
     "name": "stdout",
     "output_type": "stream",
     "text": [
      "Classes 0-2:  53000\n",
      "Classes 3-5:  17000\n"
     ]
    }
   ],
   "source": [
    "print(\"Classes 0-2: \", smile_counts[0] + smile_counts[1] + smile_counts[2])\n",
    "print(\"Classes 3-5: \", smile_counts[3] + smile_counts[4] + smile_counts[5])"
   ]
  }
 ],
 "metadata": {
  "kernelspec": {
   "display_name": "optdif1",
   "language": "python",
   "name": "python3"
  },
  "language_info": {
   "codemirror_mode": {
    "name": "ipython",
    "version": 3
   },
   "file_extension": ".py",
   "mimetype": "text/x-python",
   "name": "python",
   "nbconvert_exporter": "python",
   "pygments_lexer": "ipython3",
   "version": "3.12.9"
  }
 },
 "nbformat": 4,
 "nbformat_minor": 2
}
