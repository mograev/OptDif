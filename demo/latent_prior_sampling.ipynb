{
 "cells": [
  {
   "cell_type": "markdown",
   "id": "438f936f",
   "metadata": {},
   "source": [
    "# Latent Prior Sampling\n",
    "\n",
    "This notebook demonstrates how to sample from a VQVAE2 model that uses a hierarchical Transformer prior in the latent spaces."
   ]
  },
  {
   "cell_type": "markdown",
   "id": "9a0de500",
   "metadata": {},
   "source": [
    "## Setup"
   ]
  },
  {
   "cell_type": "code",
   "execution_count": null,
   "id": "978b03ad",
   "metadata": {},
   "outputs": [],
   "source": [
    "import torch\n",
    "from src.models.latent_models import LatentVQVAE2\n",
    "from src.models.vqvae2 import VQVAE2\n",
    "from src.models.transformer_prior import HierarchicalTransformerPrior"
   ]
  },
  {
   "cell_type": "markdown",
   "id": "17a526f6",
   "metadata": {},
   "source": [
    "### Load Stable Diffusion VAE"
   ]
  },
  {
   "cell_type": "code",
   "execution_count": null,
   "id": "488deda2",
   "metadata": {},
   "outputs": [],
   "source": [
    "# Load Stable Diffusion VAE model\n",
    "from diffusers import AutoencoderKL\n",
    "\n",
    "sd_vae = AutoencoderKL.from_pretrained(\"stabilityai/stable-diffusion-3.5-medium\", subfolder=\"vae\")\n",
    "sd_vae.eval().cuda()"
   ]
  },
  {
   "cell_type": "markdown",
   "id": "b3e06ae0",
   "metadata": {},
   "source": [
    "### Load VQVAE2 models"
   ]
  },
  {
   "cell_type": "code",
   "execution_count": null,
   "id": "99b62a4f",
   "metadata": {},
   "outputs": [],
   "source": [
    "ckpt_vqvae   = \"../models/latent_vqvae2/version_1_2/checkpoints/last.ckpt\"\n",
    "config_yaml  = \"../models/latent_vqvae2/version_1_2/hparams.yaml\"\n",
    "\n",
    "latent_vqvae2 = LatentVQVAE2.load_from_checkpoint(\n",
    "    ckpt_vqvae,\n",
    "    hparams_file=config_yaml,\n",
    "    map_location=\"cpu\",\n",
    ")\n",
    "latent_vqvae2.eval().requires_grad_(False)"
   ]
  },
  {
   "cell_type": "code",
   "execution_count": null,
   "id": "87f97ad6",
   "metadata": {},
   "outputs": [],
   "source": [
    "ckpt_vqvae   = \"../models/vqvae2/version_0_2/checkpoints/last.ckpt\"\n",
    "config_yaml  = \"../models/vqvae2/version_0_2/hparams.yaml\"\n",
    "\n",
    "vqvae2 = VQVAE2.load_from_checkpoint(\n",
    "    ckpt_vqvae,\n",
    "    hparams_file=config_yaml,\n",
    "    map_location=\"cpu\",\n",
    ")\n",
    "vqvae2.eval().requires_grad_(False)"
   ]
  },
  {
   "cell_type": "markdown",
   "id": "82c97ede",
   "metadata": {},
   "source": [
    "### Load Transformer prior"
   ]
  },
  {
   "cell_type": "markdown",
   "id": "665a056d",
   "metadata": {},
   "source": [
    "#### LatentVQVAE2 prior"
   ]
  },
  {
   "cell_type": "code",
   "execution_count": null,
   "id": "0a2a3993",
   "metadata": {},
   "outputs": [],
   "source": [
    "ckpt_prior = \"../models/latent_prior/version_16/checkpoints/epoch_020.ckpt\"\n",
    "\n",
    "latent_vqvae2_prior = HierarchicalTransformerPrior.load_from_checkpoint(\n",
    "    ckpt_prior,\n",
    "    vqvae=latent_vqvae2,\n",
    "    map_location=\"cuda\",\n",
    ").eval().cuda()"
   ]
  },
  {
   "cell_type": "markdown",
   "id": "a3f5dbd0",
   "metadata": {},
   "source": [
    "#### VQVAE2 prior"
   ]
  },
  {
   "cell_type": "code",
   "execution_count": null,
   "id": "d73d7c52",
   "metadata": {},
   "outputs": [],
   "source": [
    "ckpt_prior = \"../models/latent_prior/version_11/checkpoints/epoch_018.ckpt\"\n",
    "\n",
    "vqvae2_prior = HierarchicalTransformerPrior.load_from_checkpoint(\n",
    "    ckpt_prior,\n",
    "    vqvae=vqvae2,\n",
    "    map_location=\"cuda\",\n",
    ").eval().cuda()"
   ]
  },
  {
   "cell_type": "markdown",
   "id": "a1c76893",
   "metadata": {},
   "source": [
    "## Random Samples"
   ]
  },
  {
   "cell_type": "markdown",
   "id": "e34f0f94",
   "metadata": {},
   "source": [
    "### LatentVQVAE2 Prior Sampling"
   ]
  },
  {
   "cell_type": "code",
   "execution_count": null,
   "id": "0a28e3c6",
   "metadata": {},
   "outputs": [],
   "source": [
    "with torch.no_grad():\n",
    "    samples = latent_vqvae2_prior.sample(\n",
    "        n=4,              \t\t\t# how many\n",
    "        temperature=1.0,  \t\t\t# lower = sharper, higher = more varied\n",
    "        top_k=None,         \t\t# restrict to top-k logits (optional, None = full softmax)\n",
    "        seed=42            \t\t\t# random seed for reproducibility\n",
    "    ).cpu()"
   ]
  },
  {
   "cell_type": "code",
   "execution_count": null,
   "id": "4149beb6",
   "metadata": {},
   "outputs": [],
   "source": [
    "import matplotlib.pyplot as plt\n",
    "\n",
    "# Plot the images\n",
    "fig, axes = plt.subplots(2, 2, figsize=(2*2, 2*2))\n",
    "axes = axes.flatten()\n",
    "for i in range(4):\n",
    "\taxes[i].imshow(samples[i].permute(1, 2, 0).cpu().numpy().clip(-1,1) * 0.5 + 0.5)\n",
    "\taxes[i].axis('off')\n",
    "\n",
    "plt.tight_layout()\n",
    "plt.show()"
   ]
  },
  {
   "cell_type": "markdown",
   "id": "ba38a15a",
   "metadata": {},
   "source": [
    "### VQVAE2 Prior Sampling"
   ]
  },
  {
   "cell_type": "code",
   "execution_count": null,
   "id": "48a12e95",
   "metadata": {},
   "outputs": [],
   "source": [
    "with torch.no_grad():\n",
    "    samples = vqvae2_prior.sample(\n",
    "        n=4,              \t\t\t# how many\n",
    "        temperature=1.0,  \t\t\t# lower = sharper, higher = more varied\n",
    "        top_k=None,         \t\t# restrict to top-k logits (optional, None = full softmax)\n",
    "        seed=42            \t\t\t# random seed for reproducibility\n",
    "    ).cpu()"
   ]
  },
  {
   "cell_type": "code",
   "execution_count": null,
   "id": "7d486666",
   "metadata": {},
   "outputs": [],
   "source": [
    "# Decode the latents\n",
    "samples = sd_vae.decode(samples, return_dict=False)[0].detach()"
   ]
  },
  {
   "cell_type": "code",
   "execution_count": null,
   "id": "321c41c7",
   "metadata": {},
   "outputs": [],
   "source": [
    "import matplotlib.pyplot as plt\n",
    "\n",
    "# Plot the images\n",
    "fig, axes = plt.subplots(2, 2, figsize=(2*2, 2*2))\n",
    "axes = axes.flatten()\n",
    "for i in range(4):\n",
    "\taxes[i].imshow(samples[i].permute(1, 2, 0).cpu().numpy().clip(-1,1) * 0.5 + 0.5)\n",
    "\taxes[i].axis('off')\n",
    "\n",
    "plt.tight_layout()\n",
    "plt.show()"
   ]
  },
  {
   "cell_type": "markdown",
   "id": "c14b0c9f",
   "metadata": {},
   "source": [
    "## Grid Comparison"
   ]
  },
  {
   "cell_type": "code",
   "execution_count": null,
   "id": "c14b0c9f",
   "metadata": {},
   "outputs": [],
   "source": [
    "samples = []\n",
    "\n",
    "for top_k in [64, 128, 256, 512, None]:\n",
    "\t# LatentVQVAE2 prior\n",
    "\tfor temp in [0.6, 0.7, 0.8, 0.9, 1.0]:\n",
    "\t\twith torch.no_grad():\n",
    "\t\t\tsample = latent_vqvae2_prior.sample(\n",
    "\t\t\t\tn=1,\n",
    "\t\t\t\ttemperature=temp,\n",
    "\t\t\t\ttop_k=top_k,\n",
    "\t\t\t\tseed=42\n",
    "\t\t\t)\n",
    "\t\t\tsample = sd_vae.decode(sample, return_dict=False)[0].detach().squeeze()\n",
    "\t\t\tsamples.append(sample.cpu())\n",
    "\n",
    "\t# VQVAE2 prior\n",
    "\tfor temp in [0.6, 0.7, 0.8, 0.9, 1.0]:\n",
    "\t\twith torch.no_grad():\n",
    "\t\t\tsample = vqvae2_prior.sample(\n",
    "\t\t\t\tn=1,\n",
    "\t\t\t\ttemperature=temp,\n",
    "\t\t\t\ttop_k=top_k,\n",
    "\t\t\t\tseed=42\n",
    "\t\t\t)\n",
    "\t\t\tsamples.append(sample.squeeze().cpu())"
   ]
  },
  {
   "cell_type": "code",
   "execution_count": null,
   "id": "128212fe",
   "metadata": {},
   "outputs": [],
   "source": [
    "import matplotlib.pyplot as plt\n",
    "import matplotlib.gridspec as gridspec\n",
    "\n",
    "# Create a GridSpec with an extra column for spacing\n",
    "fig = plt.figure(constrained_layout=True, figsize=(2*2*5*1.01, 2*5))\n",
    "gs = gridspec.GridSpec(nrows=5, ncols=11, width_ratios=[1,1,1,1,1,0.1,1,1,1,1,1])\n",
    "\n",
    "# Create a list to hold axes (ignoring the spacer column)\n",
    "axes = []\n",
    "for i in range(5):\n",
    "    for j in range(11):\n",
    "        if j == 5:  # skip spacer column\n",
    "            continue\n",
    "        ax = fig.add_subplot(gs[i, j])\n",
    "        axes.append(ax)\n",
    "\n",
    "# Plot the images on the 50 axes\n",
    "for i in range(50):\n",
    "    ax = axes[i]\n",
    "    ax.imshow(samples[i].permute(1, 2, 0).cpu().numpy().clip(-1,1) * 0.5 + 0.5)\n",
    "    # Remove ticks and spines\n",
    "    ax.set_xticks([])\n",
    "    ax.set_yticks([])\n",
    "    for spine in ax.spines.values():\n",
    "        spine.set_visible(False)\n",
    "\n",
    "# Add labels for each column (assuming the top row of each block)\n",
    "for i in range(5):\n",
    "    axes[i].set_title(f\"Temp: {0.6 + 0.1*i:.1f}\")\n",
    "    axes[i+5].set_title(f\"Temp: {0.6 + 0.1*i:.1f}\")\n",
    "\n",
    "# Add labels for each row\n",
    "for i in range(5):\n",
    "    axes[i*10].set_ylabel(f\"Top-k: {64 * (2**i) if i < 4 else 'Full'}\", rotation=90,\n",
    "                            ha='center', va='center', labelpad=12, fontsize=12)\n",
    "\n",
    "# Add the supertitles\n",
    "fig.text(0.258, 1.02, \"LatentVQVAE2 Prior\", ha=\"center\", va=\"center\", fontsize=14, fontweight='bold')\n",
    "fig.text(0.755, 1.02, \"VQVAE2 Prior\", ha=\"center\", va=\"center\", fontsize=14, fontweight='bold')\n",
    "\n",
    "# Draw a vertical line between the two blocks in the spacer region.\n",
    "line = plt.Line2D([0.5055, 0.5055], [0, 1], transform=fig.transFigure,\n",
    "                  color='black', linewidth=2, linestyle='--')\n",
    "fig.add_artist(line)\n",
    "\n",
    "plt.tight_layout()\n",
    "plt.savefig(\"vis/latent_prior_samples_comparison.pdf\", bbox_inches='tight')\n",
    "plt.show()"
   ]
  }
 ],
 "metadata": {
  "kernelspec": {
   "display_name": "optdif1",
   "language": "python",
   "name": "python3"
  },
  "language_info": {
   "codemirror_mode": {
    "name": "ipython",
    "version": 3
   },
   "file_extension": ".py",
   "mimetype": "text/x-python",
   "name": "python",
   "nbconvert_exporter": "python",
   "pygments_lexer": "ipython3",
   "version": "3.12.10"
  }
 },
 "nbformat": 4,
 "nbformat_minor": 5
}
