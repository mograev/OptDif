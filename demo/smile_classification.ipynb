{
 "cells": [
  {
   "cell_type": "markdown",
   "metadata": {},
   "source": [
    "This notebook demonstrates some sample results of the CelebA smile classifier on the FFHQ dataset."
   ]
  },
  {
   "cell_type": "code",
   "execution_count": null,
   "metadata": {},
   "outputs": [],
   "source": [
    "import matplotlib.pyplot as plt\n",
    "import numpy as np\n",
    "\n",
    "from src.classification.smile_classifier import SmileClassifier"
   ]
  },
  {
   "cell_type": "code",
   "execution_count": null,
   "metadata": {},
   "outputs": [],
   "source": [
    "# Configuration\n",
    "PRETRAINED_CLASSIFIER_PATH = \"../models/classifier/celeba_smile/predictor_128.pth.tar\"\n",
    "SCALED_CLASSIFIER_PATH = \"../models/classifier/celeba_smile/predictor_128_scaled3.pth.tar\"\n",
    "ATTR_FILE = \"../models/classifier/celeba_smile/attributes.json\"\n",
    "IMAGE_TENSOR__PATH = \"../data/ffhq/pt_images/\"\n",
    "IMAGE_PATH = \"../data/ffhq/images1024x1024/\""
   ]
  },
  {
   "cell_type": "code",
   "execution_count": null,
   "metadata": {},
   "outputs": [],
   "source": [
    "# Scaled classifier\n",
    "smile_classifier = SmileClassifier(PRETRAINED_CLASSIFIER_PATH, ATTR_FILE, SCALED_CLASSIFIER_PATH, device=\"cpu\", log_level=\"ERROR\")"
   ]
  },
  {
   "cell_type": "code",
   "execution_count": null,
   "metadata": {},
   "outputs": [],
   "source": [
    "# Demo: Classify 9 random images and plot them in a 3x3 grid with their smile score\n",
    "fig, axs = plt.subplots(3, 3, figsize=(10, 10))\n",
    "for i in range(3):\n",
    "    for j in range(3):\n",
    "        # Randomly select an image\n",
    "        random_image = np.random.choice(os.listdir(IMAGE_TENSOR__PATH)).split(\".\")[0]\n",
    "        image_tensor_path = IMAGE_TENSOR__PATH + random_image + \".pt\"\n",
    "        image_path = IMAGE_PATH + random_image + \".png\"\n",
    "\n",
    "        # Classify the image\n",
    "        smile_score = smile_classifier.classify(image_tensor_path)\n",
    "\n",
    "        # Load and display the image\n",
    "        image = plt.imread(image_path)\n",
    "        axs[i, j].imshow(image)\n",
    "        axs[i, j].set_title(f\"{random_image}: {smile_score:.2f}\")\n",
    "        axs[i, j].axis(\"off\")\n",
    "\n",
    "plt.tight_layout()\n",
    "plt.show()"
   ]
  }
 ],
 "metadata": {
  "kernelspec": {
   "display_name": "optdif1",
   "language": "python",
   "name": "python3"
  },
  "language_info": {
   "codemirror_mode": {
    "name": "ipython",
    "version": 3
   },
   "file_extension": ".py",
   "mimetype": "text/x-python",
   "name": "python",
   "nbconvert_exporter": "python",
   "pygments_lexer": "ipython3",
   "version": "3.12.9"
  }
 },
 "nbformat": 4,
 "nbformat_minor": 2
}
