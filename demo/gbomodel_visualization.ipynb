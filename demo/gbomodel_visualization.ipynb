{
 "cells": [
  {
   "cell_type": "markdown",
   "id": "c2158ac5",
   "metadata": {},
   "source": [
    "# GBOModel Visualization\n",
    "\n",
    "This notebook visualizes the GBOModel's input space."
   ]
  },
  {
   "cell_type": "markdown",
   "id": "eb772d27",
   "metadata": {},
   "source": [
    "## Setup"
   ]
  },
  {
   "cell_type": "code",
   "execution_count": null,
   "id": "02597e4c",
   "metadata": {},
   "outputs": [],
   "source": [
    "import time, pathlib, sys\n",
    "\n",
    "import numpy as np\n",
    "import torch\n",
    "import matplotlib.pyplot as plt\n",
    "from sklearn.manifold import TSNE\n",
    "\n",
    "from src.gbo.gbo_model import GBOModel\n",
    "from src.utils import zero_mean_unit_var_normalization, zero_mean_unit_var_denormalization"
   ]
  },
  {
   "cell_type": "code",
   "execution_count": null,
   "id": "1fd58156",
   "metadata": {},
   "outputs": [],
   "source": [
    "# Manual configuration\n",
    "MODEL_CKPT   = \"../results/debug_09/opt/iter_0/gbo_train_res.npz\"\n",
    "OPT_LATENTS  = \"../results/debug_09/opt/iter_0/gbo_opt_res.npy\"\n",
    "OUT_PNG      = \"gbomodel_tsne.png\"\n",
    "N_RANDOM     = 10_000"
   ]
  },
  {
   "cell_type": "markdown",
   "id": "4dea3401",
   "metadata": {},
   "source": [
    "### Load model"
   ]
  },
  {
   "cell_type": "code",
   "execution_count": null,
   "id": "34a8073c",
   "metadata": {},
   "outputs": [],
   "source": [
    "# Get checkpoint\n",
    "ckpt = torch.load(MODEL_CKPT, map_location=\"cpu\", weights_only=False)\n",
    "\n",
    "X_mean = ckpt[\"X_mean\"]\n",
    "X_std  = ckpt[\"X_std\"]"
   ]
  },
  {
   "cell_type": "code",
   "execution_count": null,
   "id": "711b373a",
   "metadata": {},
   "outputs": [],
   "source": [
    "model = GBOModel(\n",
    "    input_dim   = ckpt[\"input_dim\"],\n",
    "    hidden_dims = ckpt[\"hidden_dims\"],\n",
    "    output_dim  = ckpt[\"output_dim\"],\n",
    ")\n",
    "model.load_state_dict(ckpt[\"model_state_dict\"])\n",
    "model.eval()\n",
    "\n",
    "d_latent = ckpt[\"input_dim\"]\n",
    "print(f\"Loaded model  - latent dim: {d_latent}\")"
   ]
  },
  {
   "cell_type": "markdown",
   "id": "0503decf",
   "metadata": {},
   "source": [
    "## Workflow"
   ]
  },
  {
   "cell_type": "markdown",
   "id": "3e5ab0b6",
   "metadata": {},
   "source": [
    "### Sample points"
   ]
  },
  {
   "cell_type": "code",
   "execution_count": null,
   "id": "6dd94960",
   "metadata": {},
   "outputs": [],
   "source": [
    "torch.manual_seed(0)\n",
    "Z_rand = torch.randn(N_RANDOM, d_latent)\n",
    "\n",
    "Z_opt = np.load(OPT_LATENTS).squeeze()\n",
    "Z_opt = zero_mean_unit_var_normalization(Z_opt, X_mean, X_std)\n",
    "Z_opt = torch.tensor(Z_opt, dtype=torch.float32)\n",
    "\n",
    "print(f\"Random points    : {Z_rand.shape[0]}\")\n",
    "print(f\"Optimized points : {Z_opt.shape[0]}\")"
   ]
  },
  {
   "cell_type": "markdown",
   "id": "d312ab36",
   "metadata": {},
   "source": [
    "### Evaluate model"
   ]
  },
  {
   "cell_type": "code",
   "execution_count": null,
   "id": "959f35a8",
   "metadata": {},
   "outputs": [],
   "source": [
    "def batched_eval(model, Z, batch=2048):\n",
    "    y_list = []\n",
    "    with torch.inference_mode():\n",
    "        for i in range(0, len(Z), batch):\n",
    "            y_batch = model(Z[i:i+batch]).cpu()\n",
    "            y_list.append(y_batch)\n",
    "    return torch.cat(y_list, dim=0).numpy().ravel()\n",
    "\n",
    "y_rand = batched_eval(model, Z_rand)\n",
    "y_opt  = batched_eval(model, Z_opt)"
   ]
  },
  {
   "cell_type": "markdown",
   "id": "1cc53a46",
   "metadata": {},
   "source": [
    "### Denormalization"
   ]
  },
  {
   "cell_type": "code",
   "execution_count": null,
   "id": "13502444",
   "metadata": {},
   "outputs": [],
   "source": [
    "X_rand = zero_mean_unit_var_denormalization(Z_rand, X_mean, X_std)\n",
    "X_opt = zero_mean_unit_var_denormalization(Z_opt, X_mean, X_std)"
   ]
  },
  {
   "cell_type": "markdown",
   "id": "b81f2eef",
   "metadata": {},
   "source": [
    "### Print"
   ]
  },
  {
   "cell_type": "code",
   "execution_count": null,
   "id": "5a3a6eae",
   "metadata": {},
   "outputs": [],
   "source": [
    "print(X_rand)\n",
    "print(X_opt)\n",
    "\n",
    "print(Z_rand)\n",
    "print(Z_opt)\n",
    "\n",
    "print(y_rand)\n",
    "print(y_opt)"
   ]
  },
  {
   "cell_type": "markdown",
   "id": "2ed17bf7",
   "metadata": {},
   "source": [
    "### t-SNE Projection"
   ]
  },
  {
   "cell_type": "code",
   "execution_count": null,
   "id": "0c199012",
   "metadata": {},
   "outputs": [],
   "source": [
    "X_all = torch.cat([X_rand, X_opt], dim=0).cpu().numpy()\n",
    "\n",
    "print(\"Running t-SNE ... (this can take ~1-2 min on CPU)\")\n",
    "t0 = time.time()\n",
    "tsne = TSNE(\n",
    "    n_components=2,\n",
    "    perplexity  = 50,          # good for 10 k–30 k points\n",
    "    init        = \"pca\",\n",
    "    learning_rate=\"auto\",\n",
    "    random_state=42,\n",
    ")\n",
    "X_2d = tsne.fit_transform(X_all)\n",
    "print(f\"t-SNE finished in {time.time() - t0:.1f}s\")\n",
    "\n",
    "X_rand_2d, X_opt_2d = X_2d[: len(X_rand)], X_2d[len(X_rand):]"
   ]
  },
  {
   "cell_type": "code",
   "execution_count": null,
   "id": "acd2008d",
   "metadata": {},
   "outputs": [],
   "source": [
    "X_opt_2d"
   ]
  },
  {
   "cell_type": "markdown",
   "id": "9d90f02d",
   "metadata": {},
   "source": [
    "### Plot"
   ]
  },
  {
   "cell_type": "code",
   "execution_count": null,
   "id": "3691aced",
   "metadata": {},
   "outputs": [],
   "source": [
    "fig, ax = plt.subplots(figsize=(7, 6))\n",
    "\n",
    "sc = ax.scatter(\n",
    "    X_rand_2d[:, 0], X_rand_2d[:, 1],\n",
    "    c   = y_rand,\n",
    "    s   = 6,\n",
    "    alpha = 0.5,\n",
    "    linewidths = 0,\n",
    ")\n",
    "ax.scatter(\n",
    "    X_opt_2d[:, 0], X_opt_2d[:, 1],\n",
    "    c   = y_opt,\n",
    "    s   = 60,\n",
    "    linewidths = 1.0,\n",
    "    edgecolors = \"k\",\n",
    "    marker = \"o\",\n",
    "    label = \"optimized\",\n",
    ")\n",
    "\n",
    "cbar = plt.colorbar(sc, ax=ax)\n",
    "cbar.set_label(\"model output\")\n",
    "\n",
    "ax.set_xlabel(\"t-SNE-1\")\n",
    "ax.set_ylabel(\"t-SNE-2\")\n",
    "ax.set_title(\"t-SNE projection of GBO latent space\")\n",
    "ax.legend()\n",
    "\n",
    "plt.tight_layout()\n",
    "plt.savefig(OUT_PNG, dpi=300)\n",
    "print(f\"Saved figure → {OUT_PNG}\")\n",
    "plt.show()"
   ]
  }
 ],
 "metadata": {
  "kernelspec": {
   "display_name": "optdif1",
   "language": "python",
   "name": "python3"
  },
  "language_info": {
   "codemirror_mode": {
    "name": "ipython",
    "version": 3
   },
   "file_extension": ".py",
   "mimetype": "text/x-python",
   "name": "python",
   "nbconvert_exporter": "python",
   "pygments_lexer": "ipython3",
   "version": "3.12.9"
  }
 },
 "nbformat": 4,
 "nbformat_minor": 5
}
