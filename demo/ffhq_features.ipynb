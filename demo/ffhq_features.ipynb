{
 "cells": [
  {
   "cell_type": "markdown",
   "metadata": {},
   "source": [
    "This notebook checks, whether some features provided by the FFHQ Features Dataset are useful as ground truth for the latent space optimization."
   ]
  },
  {
   "cell_type": "code",
   "execution_count": null,
   "metadata": {},
   "outputs": [],
   "source": [
    "import numpy as np\n",
    "import matplotlib.pyplot as plt\n",
    "from PIL import Image"
   ]
  },
  {
   "cell_type": "code",
   "execution_count": null,
   "metadata": {},
   "outputs": [],
   "source": [
    "# load 9 random images and display them with the corresponding smile probability\n",
    "for i in range(9):\n",
    "    # images have five-digit codes\n",
    "    img_code = np.random.randint(0, 70000)\n",
    "    img_code = str(img_code).zfill(5)\n",
    "    img = Image.open(f\"images1024x1024/{img_code}.png\")\n",
    "    plt.subplot(3, 3, i+1)\n",
    "    plt.imshow(img)\n",
    "    plt.title(f\"{np.random.rand():.2f}\")\n",
    "    plt.axis(\"off\")\n",
    "plt.show()"
   ]
  }
 ],
 "metadata": {
  "kernelspec": {
   "display_name": "optdif1",
   "language": "python",
   "name": "python3"
  },
  "language_info": {
   "codemirror_mode": {
    "name": "ipython",
    "version": 3
   },
   "file_extension": ".py",
   "mimetype": "text/x-python",
   "name": "python",
   "nbconvert_exporter": "python",
   "pygments_lexer": "ipython3",
   "version": "3.12.9"
  }
 },
 "nbformat": 4,
 "nbformat_minor": 2
}
