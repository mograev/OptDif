{
 "cells": [
  {
   "cell_type": "markdown",
   "metadata": {},
   "source": [
    "This notebook shows how to initialize and use the LatentAutoencoder class."
   ]
  },
  {
   "cell_type": "code",
   "execution_count": null,
   "metadata": {},
   "outputs": [],
   "source": [
    "from src.models.latent_models import LatentAutoencoder\n",
    "import yaml"
   ]
  },
  {
   "cell_type": "code",
   "execution_count": null,
   "metadata": {},
   "outputs": [],
   "source": [
    "# Configuration for the LatentAutoencoder model\n",
    "latent_autoencoder_config_path = \"../models/latent_autoencoder/configs/sd35m_to_512d.yaml\"\n",
    "\n",
    "# Load latent VAE config\n",
    "with open(latent_autoencoder_config_path, \"r\") as f:\n",
    "    latent_autoencoder_config = yaml.safe_load(f)\n",
    "\n",
    "# Other configuration\n",
    "embed_dim = 128\n",
    "# ckpt_path = \"../models/latent_vae/version_0/checkpoints/epoch=65-step=32538.ckpt\"\n",
    "ckpt_path = \"../models/latent_autoencoder/version_0/checkpoints/last.ckpt\"\n",
    "\n",
    "# Initialize LatentAutoencoder model\n",
    "latent_autoencoder = LatentAutoencoder(\n",
    "    ddconfig=latent_autoencoder_config[\"ddconfig\"],\n",
    "    lossconfig=latent_autoencoder_config[\"lossconfig\"],\n",
    "    embed_dim=latent_autoencoder_config[\"embed_dim\"],\n",
    "    ckpt_path=ckpt_path,\n",
    "    monitor=\"val_total_loss\",\n",
    ")\n",
    "\n",
    "latent_autoencoder.eval()\n",
    "latent_autoencoder"
   ]
  },
  {
   "cell_type": "code",
   "execution_count": null,
   "metadata": {},
   "outputs": [],
   "source": [
    "# Load one example image\n",
    "import torch\n",
    "IMAGE_TENSOR_PATH = \"../data/ffhq/pt_images/65432.pt\" #54321.pt\n",
    "\n",
    "img_tensor = torch.load(IMAGE_TENSOR_PATH)\n",
    "\n",
    "# Add batch dimension: Change from (C, H, W) to (B, C, H, W)\n",
    "img_tensor = img_tensor.unsqueeze(0)\n",
    "\n",
    "# Show the image\n",
    "import matplotlib.pyplot as plt\n",
    "import numpy as np\n",
    "img = img_tensor.squeeze(0).permute(1, 2, 0).numpy()\n",
    "plt.imshow((img + 1) / 2)\n",
    "plt.axis('off')\n",
    "plt.show()\n",
    "print(\"Image shape:\", img_tensor.shape)"
   ]
  },
  {
   "cell_type": "code",
   "execution_count": null,
   "metadata": {},
   "outputs": [],
   "source": [
    "# Load Stable Diffusion VAE model\n",
    "from diffusers import AutoencoderKL\n",
    "\n",
    "# sd_vae = AutoencoderKL.from_pretrained(\"stabilityai/stable-diffusion-3.5-medium\", subfolder=\"vae\")\n",
    "\n",
    "# load stable diffusion 1.5 vae\n",
    "sd_vae = AutoencoderKL.from_pretrained(\n",
    "    \"stable-diffusion-v1-5/stable-diffusion-v1-5\", subfolder=\"vae\"\n",
    ")\n",
    "\n",
    "sd_vae.eval()"
   ]
  },
  {
   "cell_type": "code",
   "execution_count": null,
   "metadata": {},
   "outputs": [],
   "source": [
    "# Encode the image using the Stable Diffusion VAE\n",
    "sd_latent = sd_vae.encode(img_tensor).latent_dist.sample()\n",
    "\n",
    "print(\"SD Latent shape:\", sd_latent.shape)"
   ]
  },
  {
   "cell_type": "code",
   "execution_count": null,
   "metadata": {},
   "outputs": [],
   "source": [
    "# Encode the latent using the LatentVAE\n",
    "latent = latent_autoencoder.encode(sd_latent)\n",
    "\n",
    "print(\"Latent shape:\", latent.shape)"
   ]
  },
  {
   "cell_type": "code",
   "execution_count": null,
   "metadata": {},
   "outputs": [],
   "source": [
    "# Decode the latent using the LatentVAE\n",
    "recon = latent_autoencoder.decode(latent)\n",
    "\n",
    "print(\"Recon shape:\", recon.shape)"
   ]
  },
  {
   "cell_type": "code",
   "execution_count": null,
   "metadata": {},
   "outputs": [],
   "source": [
    "# Decode the latent using the Stable Diffusion VAE\n",
    "sd_recon = sd_vae.decode(recon).sample\n",
    "\n",
    "print(\"SD Recon shape:\", sd_recon.shape)"
   ]
  },
  {
   "cell_type": "code",
   "execution_count": null,
   "metadata": {},
   "outputs": [],
   "source": [
    "# Show the recon image\n",
    "recon_img = sd_recon.squeeze(0).permute(1, 2, 0).detach().cpu().numpy()\n",
    "plt.imshow((recon_img + 1) / 2)\n",
    "plt.axis('off')\n",
    "plt.show()"
   ]
  },
  {
   "cell_type": "code",
   "execution_count": null,
   "metadata": {},
   "outputs": [],
   "source": [
    "# plot input and recon next to each other\n",
    "fig, ax = plt.subplots(1, 2, figsize=(10, 5))\n",
    "ax[0].imshow((img + 1) / 2)\n",
    "ax[0].set_title(\"Input Image\")\n",
    "ax[0].axis('off')\n",
    "ax[1].imshow((recon_img + 1) / 2)\n",
    "ax[1].set_title(\"Reconstructed Image\")\n",
    "ax[1].axis('off')\n",
    "plt.show()"
   ]
  },
  {
   "cell_type": "code",
   "execution_count": null,
   "metadata": {},
   "outputs": [],
   "source": [
    "# plot 5 random inputs and recons next to each other\n",
    "import os\n",
    "import glob\n",
    "import random\n",
    "# Load the images from the folder\n",
    "IMAGE_FOLDER = \"../data/ffhq/pt_images/\"\n",
    "IMAGE_TENSOR_PATHS = glob.glob(os.path.join(IMAGE_FOLDER, \"*.pt\"))\n",
    "# Select 5 random images\n",
    "random.seed(42)\n",
    "random.shuffle(IMAGE_TENSOR_PATHS)\n",
    "selected_paths = IMAGE_TENSOR_PATHS[:5]\n",
    "# Initialize lists to store images and reconstructions\n",
    "input_images = []\n",
    "reconstructed_images = []\n",
    "# Loop through the selected images\n",
    "for path in selected_paths:\n",
    "    # Load the image\n",
    "    img_tensor = torch.load(path)\n",
    "    # Add batch dimension: Change from (C, H, W) to (B, C, H, W)\n",
    "    img_tensor = img_tensor.unsqueeze(0)\n",
    "    # Encode the image using the Stable Diffusion VAE\n",
    "    sd_latent = sd_vae.encode(img_tensor).latent_dist.sample()\n",
    "    # Encode the latent using the LatentVAE\n",
    "    latent = latent_autoencoder.encode(sd_latent)\n",
    "    # Decode the latent using the LatentVAE\n",
    "    recon = latent_autoencoder.decode(latent)\n",
    "    # Decode the latent using the Stable Diffusion VAE\n",
    "    sd_recon = sd_vae.decode(recon).sample\n",
    "    # Store the images\n",
    "    input_images.append(img_tensor.squeeze(0).permute(1, 2, 0).numpy())\n",
    "    reconstructed_images.append(sd_recon.squeeze(0).permute(1, 2, 0).detach().cpu().numpy())\n",
    "# Plot the input and reconstructed images\n",
    "fig, ax = plt.subplots(5, 2, figsize=(10, 25))\n",
    "for i in range(5):\n",
    "    ax[i, 0].imshow((input_images[i] + 1) / 2)\n",
    "    ax[i, 0].set_title(\"Input Image\")\n",
    "    ax[i, 0].axis('off')\n",
    "    ax[i, 1].imshow((reconstructed_images[i] + 1) / 2)\n",
    "    ax[i, 1].set_title(\"Reconstructed Image\")\n",
    "    ax[i, 1].axis('off')\n",
    "plt.tight_layout()\n",
    "plt.show()"
   ]
  }
 ],
 "metadata": {
  "kernelspec": {
   "display_name": "optdif1",
   "language": "python",
   "name": "python3"
  },
  "language_info": {
   "codemirror_mode": {
    "name": "ipython",
    "version": 3
   },
   "file_extension": ".py",
   "mimetype": "text/x-python",
   "name": "python",
   "nbconvert_exporter": "python",
   "pygments_lexer": "ipython3",
   "version": "3.12.9"
  }
 },
 "nbformat": 4,
 "nbformat_minor": 2
}
