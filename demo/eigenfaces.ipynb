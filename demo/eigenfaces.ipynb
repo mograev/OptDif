{
 "cells": [
  {
   "cell_type": "markdown",
   "id": "779462a8",
   "metadata": {},
   "source": [
    "# Eigenfaces"
   ]
  },
  {
   "cell_type": "markdown",
   "id": "9633f418",
   "metadata": {},
   "source": [
    "## Setup"
   ]
  },
  {
   "cell_type": "code",
   "execution_count": null,
   "id": "c51c11cd",
   "metadata": {},
   "outputs": [],
   "source": [
    "import numpy as np\n",
    "import torch"
   ]
  },
  {
   "cell_type": "markdown",
   "id": "8f0a6488",
   "metadata": {},
   "source": [
    "### Load SD model"
   ]
  },
  {
   "cell_type": "code",
   "execution_count": null,
   "id": "2b5a1c29",
   "metadata": {},
   "outputs": [],
   "source": [
    "# Load Stable Diffusion VAE model\n",
    "from diffusers import AutoencoderKL\n",
    "\n",
    "sd_vae = AutoencoderKL.from_pretrained(\"../models/sd_vae/version_0/huggingface\")\n",
    "sd_vae.eval()\n",
    "\n",
    "device = torch.device(\"cuda\" if torch.cuda.is_available() else \"cpu\")\n",
    "sd_vae.to(device)"
   ]
  },
  {
   "cell_type": "markdown",
   "id": "41e4eb41",
   "metadata": {},
   "source": [
    "### Load PCA\n",
    "\n",
    "See pca.ipynb for details on how to compute PCA."
   ]
  },
  {
   "cell_type": "code",
   "execution_count": null,
   "id": "3ccc36b5",
   "metadata": {},
   "outputs": [],
   "source": [
    "from sklearn.decomposition import PCA\n",
    "import pickle\n",
    "\n",
    "# Load PCA model\n",
    "with open(\"../data/ffhq/sd_latents_pca_model.pkl\", \"rb\") as f:\n",
    "    pca = pickle.load(f)"
   ]
  },
  {
   "cell_type": "markdown",
   "id": "78c2bcd2",
   "metadata": {},
   "source": [
    "## Group Comparison\n",
    "\n",
    "### Load SD latents"
   ]
  },
  {
   "cell_type": "code",
   "execution_count": null,
   "id": "5cd41354",
   "metadata": {},
   "outputs": [],
   "source": [
    "# Load precomputed SD latents\n",
    "latents = torch.load(\"../data/ffhq/sd_latents.pt\", weights_only=False)\n",
    "\n",
    "# Store latent shape for later\n",
    "latent_shape = latents.shape[1:]"
   ]
  },
  {
   "cell_type": "code",
   "execution_count": null,
   "id": "58794d41",
   "metadata": {},
   "outputs": [],
   "source": [
    "# Prepare latents for PCA\n",
    "latents_flat = latents.view(latents.size(0), -1).cpu().numpy()"
   ]
  },
  {
   "cell_type": "markdown",
   "id": "1f596ba5",
   "metadata": {},
   "source": [
    "### Load smile scores"
   ]
  },
  {
   "cell_type": "code",
   "execution_count": null,
   "id": "f2626c53",
   "metadata": {},
   "outputs": [],
   "source": [
    "import json\n",
    "\n",
    "# Load smile scores\n",
    "smile_scores = json.load(open(\"../data/ffhq/ffhq_smile_scores.json\", \"r\"))\n",
    "\n",
    "# Sort by file name\n",
    "smile_scores = {k: smile_scores[k] for k in sorted(smile_scores.keys())}\n",
    "\n",
    "# Convert to array\n",
    "smile_scores = np.array(list(smile_scores.values()))"
   ]
  },
  {
   "cell_type": "code",
   "execution_count": null,
   "id": "1413b9f2",
   "metadata": {},
   "outputs": [],
   "source": [
    "import matplotlib.pyplot as plt\n",
    "\n",
    "# plot histogram of smile scores\n",
    "plt.figure(figsize=(10, 5))\n",
    "plt.hist(smile_scores, bins=50, color='blue', alpha=0.7)\n",
    "plt.title(\"Histogram of Smile Scores\")\n",
    "plt.xlabel(\"Smile Score\")\n",
    "plt.ylabel(\"Frequency\")\n",
    "plt.grid()\n",
    "plt.show()"
   ]
  },
  {
   "cell_type": "markdown",
   "id": "1ce4d1f3",
   "metadata": {},
   "source": [
    "### Transform SD latents into PCA space"
   ]
  },
  {
   "cell_type": "code",
   "execution_count": null,
   "id": "eca31475",
   "metadata": {},
   "outputs": [],
   "source": [
    "# transform latents using PCA\n",
    "pca_latents = pca.transform(latents_flat)"
   ]
  },
  {
   "cell_type": "code",
   "execution_count": null,
   "id": "79209d0d",
   "metadata": {},
   "outputs": [],
   "source": [
    "# Subset PCA latents for high and low smile scores\n",
    "pca_latents_high = pca_latents[smile_scores > 3.0]\n",
    "pca_latents_low = pca_latents[smile_scores < 1.0]"
   ]
  },
  {
   "cell_type": "code",
   "execution_count": null,
   "id": "8f081531",
   "metadata": {},
   "outputs": [],
   "source": [
    "def sample_latent(latents, n_samples=1):\n",
    "    indices = np.random.choice(latents.shape[0], n_samples, replace=False)\n",
    "    return latents[indices]\n",
    "\n",
    "# Sample one latent from each subset\n",
    "latent_high = sample_latent(pca_latents_high)\n",
    "latent_low = sample_latent(pca_latents_low)"
   ]
  },
  {
   "cell_type": "code",
   "execution_count": null,
   "id": "f2bc59e3",
   "metadata": {},
   "outputs": [],
   "source": [
    "def prepare_image(image):\n",
    "    image = image.cpu().permute(1, 2, 0).numpy()\n",
    "    return (image * 0.5 + 0.5).clip(0, 1)"
   ]
  },
  {
   "cell_type": "code",
   "execution_count": null,
   "id": "75dadcf3",
   "metadata": {},
   "outputs": [],
   "source": [
    "def get_eigenfaces(pca, n_components=5):\n",
    "    \"\"\"Get the first n_components eigenfaces from PCA.\"\"\"\n",
    "    eigenfaces_high = []\n",
    "    eigenfaces_low = []\n",
    "\n",
    "    for component_idx in range(n_components):\n",
    "                \n",
    "        sd_latent_high = pca.mean_ + latent_high[0, component_idx] * pca.components_[component_idx]\n",
    "        sd_latent_low  = pca.mean_ + latent_low[0, component_idx] * pca.components_[component_idx]\n",
    "\n",
    "        # Reshape into your VAE shape\n",
    "        sd_latent_high = sd_latent_high.reshape(1, *latent_shape)\n",
    "        sd_latent_low  = sd_latent_low.reshape(1, *latent_shape)\n",
    "\n",
    "        # Decode latents to images\n",
    "        with torch.no_grad():\n",
    "            sd_latent_high = torch.tensor(sd_latent_high, dtype=torch.float32).reshape(-1, *latent_shape).to(device)\n",
    "            sd_latent_low = torch.tensor(sd_latent_low, dtype=torch.float32).reshape(-1, *latent_shape).to(device)\n",
    "\n",
    "            sd_image_high = sd_vae.decode(sd_latent_high).sample\n",
    "            sd_image_low = sd_vae.decode(sd_latent_low).sample\n",
    "\n",
    "        eigenfaces_high.append(prepare_image(sd_image_high[0]))\n",
    "        eigenfaces_low.append(prepare_image(sd_image_low[0]))\n",
    "\n",
    "    return eigenfaces_high, eigenfaces_low"
   ]
  },
  {
   "cell_type": "code",
   "execution_count": null,
   "id": "cc1b4c03",
   "metadata": {},
   "outputs": [],
   "source": [
    "n_components = 5\n",
    "\n",
    "eigenfaces_high, eigenfaces_low = get_eigenfaces(pca, n_components=n_components)\n",
    "\n",
    "# Plot eigenfaces next to each other\n",
    "fig, axes = plt.subplots(nrows=n_components, ncols=2, figsize=(6, n_components * 3))\n",
    "\n",
    "for i in range(n_components):\n",
    "    axes[i, 0].imshow(eigenfaces_high[i])\n",
    "    axes[i, 0].axis('off')\n",
    "    axes[i, 0].set_title(f\"High Smile Eigenface {i+1}\")\n",
    "\n",
    "    axes[i, 1].imshow(eigenfaces_low[i])\n",
    "    axes[i, 1].axis('off')\n",
    "    axes[i, 1].set_title(f\"Low Smile Eigenface {i+1}\")\n",
    "plt.tight_layout()\n",
    "plt.show()"
   ]
  },
  {
   "cell_type": "markdown",
   "id": "fdc4ab00",
   "metadata": {},
   "source": [
    "## Optimization Analysis"
   ]
  },
  {
   "cell_type": "markdown",
   "id": "1bf56185",
   "metadata": {},
   "source": [
    "### Load LSO Results"
   ]
  },
  {
   "cell_type": "code",
   "execution_count": null,
   "id": "3d1ad236",
   "metadata": {},
   "outputs": [],
   "source": [
    "results_npz = np.load(\"../results/gbo_pca_sd_03/opt/iter_0/gbo_opt_res.npz\")\n",
    "\n",
    "z_opt = results_npz[\"z_opt\"]\n",
    "z_init = results_npz[\"z_init\"]\n",
    "\n",
    "latent_shape = [16, 32, 32]\n",
    "\n",
    "z_opt.shape, z_init.shape"
   ]
  },
  {
   "cell_type": "code",
   "execution_count": null,
   "id": "aaef475e",
   "metadata": {},
   "outputs": [],
   "source": [
    "# Transform the sd latents into pca space\n",
    "z_opt_pca = pca.transform(z_opt.reshape(z_opt.shape[0], -1))\n",
    "z_init_pca = pca.transform(z_init.reshape(z_init.shape[0], -1))\n",
    "\n",
    "z_opt_pca.shape, z_init_pca.shape"
   ]
  },
  {
   "cell_type": "code",
   "execution_count": null,
   "id": "a069c74d",
   "metadata": {},
   "outputs": [],
   "source": [
    "# Determine top 5 components per sample that differ between z_opt and z_init\n",
    "diff = z_opt_pca - z_init_pca\n",
    "top_components = np.argsort(np.abs(diff), axis=1)[:, -5:]\n",
    "\n",
    "top_components"
   ]
  },
  {
   "cell_type": "code",
   "execution_count": null,
   "id": "9ae01186",
   "metadata": {},
   "outputs": [],
   "source": [
    "# for each of the 5 samples\n",
    "#   for each idx in top components\n",
    "#       get the component value from z_opt_pca\n",
    "#       get the component value from z_init_pca\n",
    "#      get the eigenface for that component\n",
    "\n",
    "eigenfaces_init = [[] for _ in range(z_init_pca.shape[0])]\n",
    "eigenfaces_opt = [[] for _ in range(z_opt_pca.shape[0])]\n",
    "for i in range(z_opt_pca.shape[0]):\n",
    "    for idx in top_components[i]:\n",
    "        sd_latent_init = pca.mean_ + z_init_pca[i, idx] * pca.components_[idx]\n",
    "        sd_latent_opt = pca.mean_ + z_opt_pca[i, idx] * pca.components_[idx]\n",
    "\n",
    "        # Reshape into your VAE shape\n",
    "        sd_latent_init = sd_latent_init.reshape(1, *latent_shape)\n",
    "        sd_latent_opt = sd_latent_opt.reshape(1, *latent_shape)\n",
    "\n",
    "        # Decode latents to images\n",
    "        with torch.no_grad():\n",
    "            sd_latent_init = torch.tensor(sd_latent_init, dtype=torch.float32).reshape(-1, *latent_shape).to(device)\n",
    "            sd_latent_opt = torch.tensor(sd_latent_opt, dtype=torch.float32).reshape(-1, *latent_shape).to(device)\n",
    "\n",
    "            sd_image_init = sd_vae.decode(sd_latent_init).sample\n",
    "            sd_image_opt = sd_vae.decode(sd_latent_opt).sample\n",
    "\n",
    "        eigenfaces_init[i].append(prepare_image(sd_image_init[0]))\n",
    "        eigenfaces_opt[i].append(prepare_image(sd_image_opt[0]))"
   ]
  },
  {
   "cell_type": "code",
   "execution_count": null,
   "id": "55d6d52a",
   "metadata": {},
   "outputs": [],
   "source": [
    "top_components"
   ]
  },
  {
   "cell_type": "code",
   "execution_count": null,
   "id": "fa83d2aa",
   "metadata": {},
   "outputs": [],
   "source": [
    "# Plot eigenfaces next to each other\n",
    "fig, axes = plt.subplots(\n",
    "    nrows=len(eigenfaces_opt),\n",
    "    ncols=len(eigenfaces_opt[0]) * 2,\n",
    "    figsize=(len(eigenfaces_opt[0]) * 5, len(eigenfaces_opt) * 3.2),\n",
    "    squeeze=False\n",
    ")\n",
    "\n",
    "for i in range(len(eigenfaces_opt)):\n",
    "    for j in range(len(eigenfaces_opt[0])):\n",
    "        axes[i, j * 2].imshow(eigenfaces_init[i][j])\n",
    "        axes[i, j * 2].axis('off')\n",
    "        if j == 0:\n",
    "            axes[i, j * 2].set_title(f\"Image {i+1}\\nComponent {top_components[i][j]}\\nOriginal\")\n",
    "        else:\n",
    "            axes[i, j * 2].set_title(f\"Component {top_components[i][j]}\\nOriginal\")\n",
    "\n",
    "        axes[i, j * 2 + 1].imshow(eigenfaces_opt[i][j])\n",
    "        axes[i, j * 2 + 1].axis('off')\n",
    "        axes[i, j * 2 + 1].set_title(f\"Optimized\")\n",
    "plt.tight_layout()\n",
    "plt.show()"
   ]
  }
 ],
 "metadata": {
  "kernelspec": {
   "display_name": "optdif1",
   "language": "python",
   "name": "python3"
  },
  "language_info": {
   "codemirror_mode": {
    "name": "ipython",
    "version": 3
   },
   "file_extension": ".py",
   "mimetype": "text/x-python",
   "name": "python",
   "nbconvert_exporter": "python",
   "pygments_lexer": "ipython3",
   "version": "3.12.10"
  }
 },
 "nbformat": 4,
 "nbformat_minor": 5
}
