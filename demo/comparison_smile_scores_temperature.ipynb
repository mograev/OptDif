{
 "cells": [
  {
   "cell_type": "markdown",
   "metadata": {},
   "source": [
    "This notebook compares the predictions including confidences of the smile classifier with and without temperature scaling in order to decide, whether temperature scaling is necessary for the smile classifier or not."
   ]
  },
  {
   "cell_type": "code",
   "execution_count": null,
   "metadata": {},
   "outputs": [],
   "source": [
    "import matplotlib.pyplot as plt\n",
    "import numpy as np\n",
    "import os\n",
    "\n",
    "from src.classification.smile_classifier import SmileClassifier"
   ]
  },
  {
   "cell_type": "code",
   "execution_count": null,
   "metadata": {},
   "outputs": [],
   "source": [
    "# Configuration\n",
    "PRETRAINED_CLASSIFIER_PATH = \"../models/classifier/celeba_smile/predictor_128.pth.tar\"\n",
    "SCALED_CLASSIFIER_PATH = \"../models/classifier/celeba_smile/predictor_128_scaled3.pth.tar\"\n",
    "ATTR_FILE = \"../models/classifier/celeba_smile/attributes.json\"\n",
    "IMAGE_TENSOR__PATH = \"../data/ffhq/pt_images/\"\n",
    "IMAGE_PATH = \"../data/ffhq/images1024x1024/\""
   ]
  },
  {
   "cell_type": "code",
   "execution_count": null,
   "metadata": {},
   "outputs": [],
   "source": [
    "# Create classifier\n",
    "smile_classifier = SmileClassifier(PRETRAINED_CLASSIFIER_PATH, ATTR_FILE, device=\"cpu\")\n",
    "\n",
    "# Scaled classifier\n",
    "smile_classifier_scaled = SmileClassifier(PRETRAINED_CLASSIFIER_PATH, ATTR_FILE, SCALED_CLASSIFIER_PATH, device=\"cpu\")"
   ]
  },
  {
   "cell_type": "code",
   "execution_count": null,
   "metadata": {},
   "outputs": [],
   "source": [
    "# Sample an image, and display the probability distribution of both classifiers\n",
    "random_image = np.random.choice(os.listdir(IMAGE_TENSOR__PATH)).split(\".\")[0]\n",
    "image_tensor_path = IMAGE_TENSOR__PATH + random_image + \".pt\"\n",
    "image_path = IMAGE_PATH + random_image + \".png\"\n",
    "image = plt.imread(image_path)\n",
    "output = smile_classifier.classify([image_tensor_path], return_prob=True)\n",
    "output_scaled = smile_classifier_scaled.classify([image_tensor_path], return_prob=True)\n",
    "\n",
    "# add the probability as caption\n",
    "fig, ax = plt.subplots(1, 2, figsize=(10, 5))\n",
    "\n",
    "# show image on the left\n",
    "ax[0].imshow(image)\n",
    "ax[0].axis(\"off\")\n",
    "\n",
    "# show the probability distribution on the right\n",
    "ax[1].bar([0,1,2,3,4,5], output, alpha=0.5, label=\"Original Classifier\")\n",
    "ax[1].bar([0,1,2,3,4,5], output_scaled, alpha=0.5, label=\"Scaled Classifier\")\n",
    "plt.show()"
   ]
  },
  {
   "cell_type": "code",
   "execution_count": null,
   "metadata": {},
   "outputs": [],
   "source": [
    "# Select 9 random images\n",
    "image_names = []\n",
    "image_tensor_paths = []\n",
    "image_paths = []\n",
    "for i in range(9):\n",
    "    # Randomly select an image\n",
    "    random_image = np.random.choice(os.listdir(IMAGE_TENSOR__PATH)).split(\".\")[0]\n",
    "    image_tensor_path = IMAGE_TENSOR__PATH + random_image + \".pt\"\n",
    "    image_path = IMAGE_PATH + random_image + \".png\"\n",
    "\n",
    "    # Append the image path to the list\n",
    "    image_names.append(random_image)\n",
    "    image_tensor_paths.append(image_tensor_path)\n",
    "    image_paths.append(image_path)\n",
    "\n",
    "# Classify the images using the original classifier\n",
    "smile_scores = smile_classifier.classify(image_tensor_paths)\n",
    "\n",
    "# Classify the images using the scaled classifier\n",
    "smile_scores_scaled = smile_classifier_scaled.classify(image_tensor_paths)\n",
    "\n",
    "# Plot\n",
    "fig, axs = plt.subplots(3, 3, figsize=(10, 10))\n",
    "for i in range(3):\n",
    "    for j in range(3):\n",
    "        image = plt.imread(image_paths[i * 3 + j])\n",
    "        axs[i, j].imshow(image)\n",
    "        axs[i, j].set_title(f\"{image_names[i * 3 + j]}: {smile_scores[i * 3 + j]:.2f} -> {smile_scores_scaled[i * 3 + j]:.2f}\")\n",
    "        axs[i, j].axis(\"off\")"
   ]
  }
 ],
 "metadata": {
  "kernelspec": {
   "display_name": "optdif1",
   "language": "python",
   "name": "python3"
  },
  "language_info": {
   "codemirror_mode": {
    "name": "ipython",
    "version": 3
   },
   "file_extension": ".py",
   "mimetype": "text/x-python",
   "name": "python",
   "nbconvert_exporter": "python",
   "pygments_lexer": "ipython3",
   "version": "3.12.9"
  }
 },
 "nbformat": 4,
 "nbformat_minor": 2
}
