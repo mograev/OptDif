{
 "cells": [
  {
   "cell_type": "markdown",
   "metadata": {},
   "source": [
    "# Latent Model Demo\n",
    "\n",
    "This notebook shows reconstructions obtained from a latent model."
   ]
  },
  {
   "cell_type": "markdown",
   "metadata": {},
   "source": [
    "## Setup"
   ]
  },
  {
   "cell_type": "code",
   "execution_count": null,
   "metadata": {},
   "outputs": [],
   "source": [
    "from src.models.latent_models import *\n",
    "import yaml"
   ]
  },
  {
   "cell_type": "markdown",
   "metadata": {},
   "source": [
    "### Model Configuration"
   ]
  },
  {
   "cell_type": "code",
   "execution_count": null,
   "metadata": {},
   "outputs": [],
   "source": [
    "# Manual Configuration\n",
    "MODEL_TYPE = \"LatentVAE\" # LatentVAE, LatentVQVAE, LatentAutoencoder, LatentLinearAE\n",
    "VERSION = 16"
   ]
  },
  {
   "cell_type": "code",
   "execution_count": null,
   "metadata": {},
   "outputs": [],
   "source": [
    "# Automatic Configuration\n",
    "model_type_sub = {\n",
    "    \"LatentVAE\": \"latent_vae\",\n",
    "    \"LatentVQVAE\": \"latent_vqvae\",\n",
    "    \"LatentAutoencoder\": \"latent_autoencoder\",\n",
    "    \"LatentLinearAE\": \"latent_linear_ae\"\n",
    "}[MODEL_TYPE]\n",
    "config_path = f\"../models/{model_type_sub}/version_{VERSION}/hparams.yaml\"\n",
    "ckpt_path = f\"../models/{model_type_sub}/version_{VERSION}/checkpoints/last.ckpt\""
   ]
  },
  {
   "cell_type": "markdown",
   "metadata": {},
   "source": [
    "### Load Latent Model"
   ]
  },
  {
   "cell_type": "code",
   "execution_count": null,
   "metadata": {},
   "outputs": [],
   "source": [
    "# Get model config\n",
    "with open(config_path, \"r\") as f:\n",
    "    config = yaml.safe_load(f)\n",
    "\n",
    "# Extract model class\n",
    "model_cls = {\n",
    "    \"LatentVAE\": LatentVAE,\n",
    "    \"LatentVQVAE\": LatentVQVAE,\n",
    "    \"LatentAutoencoder\": LatentAutoencoder,\n",
    "    \"LatentLinearAE\": LatentLinearAE,\n",
    "}[MODEL_TYPE]"
   ]
  },
  {
   "cell_type": "code",
   "execution_count": null,
   "metadata": {},
   "outputs": [],
   "source": [
    "# Initialize model\n",
    "model = model_cls(\n",
    "    ddconfig=config[\"ddconfig\"],\n",
    "    lossconfig=config[\"lossconfig\"],\n",
    "    ckpt_path=ckpt_path,\n",
    ")\n",
    "model.eval()"
   ]
  },
  {
   "cell_type": "markdown",
   "metadata": {},
   "source": [
    "### Load Stable Diffusion Model"
   ]
  },
  {
   "cell_type": "code",
   "execution_count": null,
   "metadata": {},
   "outputs": [],
   "source": [
    "# Load Stable Diffusion VAE model\n",
    "from diffusers import AutoencoderKL\n",
    "\n",
    "sd_vae = AutoencoderKL.from_pretrained(\"stabilityai/stable-diffusion-3.5-medium\", subfolder=\"vae\")\n",
    "sd_vae.eval()"
   ]
  },
  {
   "cell_type": "markdown",
   "metadata": {},
   "source": [
    "## Encoding Decoding Pipeline"
   ]
  },
  {
   "cell_type": "code",
   "execution_count": null,
   "metadata": {},
   "outputs": [],
   "source": [
    "def custom_encode(model, x):\n",
    "    \"\"\"\n",
    "    Custom encode function to unify encoding process for different models.\n",
    "    \"\"\"\n",
    "    if isinstance(model, LatentVAE):\n",
    "        return model.encode(x).sample()\n",
    "    elif isinstance(model, LatentVQVAE):\n",
    "        return model.encode(x)[0]\n",
    "    else:\n",
    "        return model.encode(x)"
   ]
  },
  {
   "cell_type": "markdown",
   "metadata": {},
   "source": [
    "### 1 Sample Pipeline"
   ]
  },
  {
   "cell_type": "code",
   "execution_count": null,
   "metadata": {},
   "outputs": [],
   "source": [
    "# Load one example image\n",
    "import torch\n",
    "IMAGE_TENSOR_PATH = \"../data/ffhq/pt_images/65432.pt\"\n",
    "\n",
    "img_tensor = torch.load(IMAGE_TENSOR_PATH)\n",
    "\n",
    "# Add batch dimension: Change from (C, H, W) to (B, C, H, W)\n",
    "img_tensor = img_tensor.unsqueeze(0)\n",
    "\n",
    "# Show the image\n",
    "import matplotlib.pyplot as plt\n",
    "import numpy as np\n",
    "img = img_tensor.squeeze(0).permute(1, 2, 0).numpy()\n",
    "plt.imshow((img + 1) / 2)\n",
    "plt.axis('off')\n",
    "plt.show()\n",
    "print(\"Image shape:\", img_tensor.shape)"
   ]
  },
  {
   "cell_type": "code",
   "execution_count": null,
   "metadata": {},
   "outputs": [],
   "source": [
    "# Encode the image using the Stable Diffusion VAE\n",
    "sd_latent = sd_vae.encode(img_tensor).latent_dist.sample()\n",
    "\n",
    "print(\"SD Latent shape:\", sd_latent.shape)"
   ]
  },
  {
   "cell_type": "code",
   "execution_count": null,
   "metadata": {},
   "outputs": [],
   "source": [
    "# Encode the latent using the model\n",
    "latent = custom_encode(model, sd_latent)\n",
    "\n",
    "print(\"Latent shape:\", latent.shape)"
   ]
  },
  {
   "cell_type": "code",
   "execution_count": null,
   "metadata": {},
   "outputs": [],
   "source": [
    "# Decode the latent using the model\n",
    "recon = model.decode(latent)\n",
    "\n",
    "print(\"Recon shape:\", recon.shape)"
   ]
  },
  {
   "cell_type": "code",
   "execution_count": null,
   "metadata": {},
   "outputs": [],
   "source": [
    "# Decode the latent using the Stable Diffusion VAE\n",
    "sd_recon = sd_vae.decode(recon).sample\n",
    "\n",
    "print(\"SD Recon shape:\", sd_recon.shape)"
   ]
  },
  {
   "cell_type": "code",
   "execution_count": null,
   "metadata": {},
   "outputs": [],
   "source": [
    "# Show the recon image\n",
    "recon_img = sd_recon.squeeze(0).permute(1, 2, 0).detach().cpu().numpy()\n",
    "plt.imshow((recon_img + 1) / 2)\n",
    "plt.axis('off')\n",
    "plt.show()"
   ]
  },
  {
   "cell_type": "code",
   "execution_count": null,
   "metadata": {},
   "outputs": [],
   "source": [
    "# plot input and recon next to each other\n",
    "fig, ax = plt.subplots(1, 2, figsize=(10, 5))\n",
    "ax[0].imshow((img + 1) / 2)\n",
    "ax[0].set_title(\"Input Image\")\n",
    "ax[0].axis('off')\n",
    "ax[1].imshow((recon_img + 1) / 2)\n",
    "ax[1].set_title(\"Reconstructed Image\")\n",
    "ax[1].axis('off')\n",
    "plt.show()"
   ]
  },
  {
   "cell_type": "markdown",
   "metadata": {},
   "source": [
    "### 5 Sample Comparison"
   ]
  },
  {
   "cell_type": "code",
   "execution_count": null,
   "metadata": {},
   "outputs": [],
   "source": [
    "# plot 5 random inputs and recons next to each other\n",
    "import os\n",
    "import glob\n",
    "import random\n",
    "# Load the images from the folder\n",
    "IMAGE_FOLDER = \"../data/ffhq/pt_images/\"\n",
    "IMAGE_TENSOR_PATHS = glob.glob(os.path.join(IMAGE_FOLDER, \"*.pt\"))\n",
    "# Select 5 random images\n",
    "random.seed(42)\n",
    "random.shuffle(IMAGE_TENSOR_PATHS)\n",
    "selected_paths = IMAGE_TENSOR_PATHS[:5]\n",
    "# Initialize lists to store images and reconstructions\n",
    "input_images = []\n",
    "reconstructed_images = []\n",
    "# Loop through the selected images\n",
    "for path in selected_paths:\n",
    "    # Load the image\n",
    "    img_tensor = torch.load(path)\n",
    "    # Add batch dimension: Change from (C, H, W) to (B, C, H, W)\n",
    "    img_tensor = img_tensor.unsqueeze(0)\n",
    "    # Encode the image using the Stable Diffusion VAE\n",
    "    sd_latent = sd_vae.encode(img_tensor).latent_dist.sample()\n",
    "    # Encode and decode the latent using the latent model\n",
    "    recon = model(sd_latent, return_only_recon=True)\n",
    "    # Decode the latent using the Stable Diffusion VAE\n",
    "    sd_recon = sd_vae.decode(recon).sample\n",
    "    # Store the images\n",
    "    input_images.append(img_tensor.squeeze(0).permute(1, 2, 0).numpy())\n",
    "    reconstructed_images.append(sd_recon.squeeze(0).permute(1, 2, 0).detach().cpu().numpy())\n",
    "# Plot the input and reconstructed images\n",
    "fig, ax = plt.subplots(5, 2, figsize=(10, 25))\n",
    "for i in range(5):\n",
    "    ax[i, 0].imshow((input_images[i] + 1) / 2)\n",
    "    ax[i, 0].set_title(\"Input Image\")\n",
    "    ax[i, 0].axis('off')\n",
    "    ax[i, 1].imshow((reconstructed_images[i] + 1) / 2)\n",
    "    ax[i, 1].set_title(\"Reconstructed Image\")\n",
    "    ax[i, 1].axis('off')\n",
    "plt.tight_layout()\n",
    "plt.show()"
   ]
  }
 ],
 "metadata": {
  "kernelspec": {
   "display_name": "optdif1",
   "language": "python",
   "name": "python3"
  },
  "language_info": {
   "codemirror_mode": {
    "name": "ipython",
    "version": 3
   },
   "file_extension": ".py",
   "mimetype": "text/x-python",
   "name": "python",
   "nbconvert_exporter": "python",
   "pygments_lexer": "ipython3",
   "version": "3.12.9"
  }
 },
 "nbformat": 4,
 "nbformat_minor": 2
}
