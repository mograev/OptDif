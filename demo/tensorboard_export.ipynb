{
 "cells": [
  {
   "cell_type": "markdown",
   "metadata": {},
   "source": [
    "This notebook exports data from the tensorboard for several metrics/losses simultaneously.\n",
    "The code is based on:\n",
    "https://stackoverflow.com/questions/72837772/download-all-of-csv-files-of-tensorboard-at-once"
   ]
  },
  {
   "cell_type": "code",
   "execution_count": null,
   "metadata": {},
   "outputs": [],
   "source": [
    "import pandas as pd\n",
    "import requests\n",
    "from csv import reader\n",
    "import os"
   ]
  },
  {
   "cell_type": "code",
   "execution_count": null,
   "metadata": {},
   "outputs": [],
   "source": [
    "def URLs(version, split):\n",
    "    URLs_dict = {\n",
    "    f'{split}_total_loss' : f'http://localhost:6006/experiment/defaultExperimentId/data/plugin/scalars/scalars?tag={split}_total_loss&run=version_{version}&format=csv',\n",
    "    }\n",
    "    for metric in ['disc', 'gen', 'kl', 'nll', 'perc_img', 'rec_img', 'rec_lat']:\n",
    "        URLs_dict[f'{split}/{metric}_loss'] = f'http://localhost:6006/experiment/defaultExperimentId/data/plugin/scalars/scalars?tag={split}%2F{metric}_loss&run=version_{version}&format=csv'\n",
    "    return URLs_dict"
   ]
  },
  {
   "cell_type": "code",
   "execution_count": null,
   "metadata": {},
   "outputs": [],
   "source": [
    "urls_dict = URLs(9, 'val')\n",
    "dfs = {}\n",
    "\n",
    "for key, url in urls_dict.items():\n",
    "    try:\n",
    "        r = requests.get(url, allow_redirects=True)\n",
    "        data = r.text\n",
    "        data_csv = reader(data.splitlines())\n",
    "        data_csv = list(data_csv)\n",
    "        df = pd.DataFrame(data_csv)\n",
    "        headers = df.iloc[0]\n",
    "        df = pd.DataFrame(df.values[1:], columns=headers)\n",
    "        dfs[key] = df\n",
    "    except Exception as e:\n",
    "        print(f\"Error fetching {key}: {e}\")\n",
    "\n",
    "# Merge dataframes\n",
    "merged_df = pd.DataFrame()\n",
    "for key, df in dfs.items():\n",
    "    # rename 'Value' column to key\n",
    "    df.rename(columns={'Value': key}, inplace=True)\n",
    "    # drop 'Wall time' column\n",
    "    df.drop(columns=['Wall time'], inplace=True)\n",
    "    if merged_df.empty:\n",
    "        merged_df = df\n",
    "    else:\n",
    "        merged_df = pd.merge(merged_df, df, on='Step', how='outer')"
   ]
  },
  {
   "cell_type": "code",
   "execution_count": null,
   "metadata": {},
   "outputs": [],
   "source": [
    "def tb_data(version, split):\n",
    "    urls_dict = URLs(version, split)\n",
    "    dfs = {}\n",
    "    \n",
    "    for key, url in urls_dict.items():\n",
    "        try:\n",
    "            r = requests.get(url, allow_redirects=True)\n",
    "            data = r.text\n",
    "            data_csv = reader(data.splitlines())\n",
    "            data_csv = list(data_csv)\n",
    "            df = pd.DataFrame(data_csv)\n",
    "            headers = df.iloc[0]\n",
    "            df = pd.DataFrame(df.values[1:], columns=headers)\n",
    "            dfs[key] = df\n",
    "        except Exception as e:\n",
    "            print(f\"Error fetching {key}: {e}\")\n",
    "\n",
    "    # Merge dataframes\n",
    "    merged_df = pd.DataFrame()\n",
    "    for key, df in dfs.items():\n",
    "        # rename 'Value' column to key\n",
    "        df.rename(columns={'Value': key}, inplace=True)\n",
    "        # drop 'Wall time' column\n",
    "        df.drop(columns=['Wall time'], inplace=True)\n",
    "        if merged_df.empty:\n",
    "            merged_df = df\n",
    "        else:\n",
    "            merged_df = pd.merge(merged_df, df, on='Step', how='outer')\n",
    "    \n",
    "    # Sort by 'Step' (int)\n",
    "    merged_df['Step'] = merged_df['Step'].astype(int)\n",
    "    merged_df.sort_values(by='Step', inplace=True)\n",
    "    merged_df.reset_index(drop=True, inplace=True)\n",
    "    \n",
    "    return merged_df"
   ]
  },
  {
   "cell_type": "code",
   "execution_count": null,
   "metadata": {},
   "outputs": [],
   "source": [
    "df = tb_data(9, 'val')"
   ]
  },
  {
   "cell_type": "code",
   "execution_count": null,
   "metadata": {},
   "outputs": [],
   "source": [
    "df"
   ]
  },
  {
   "cell_type": "code",
   "execution_count": null,
   "metadata": {},
   "outputs": [],
   "source": [
    "# export df to csv\n",
    "df.to_csv('tb_data.csv', index=False)"
   ]
  }
 ],
 "metadata": {
  "kernelspec": {
   "display_name": "optdif1",
   "language": "python",
   "name": "python3"
  },
  "language_info": {
   "codemirror_mode": {
    "name": "ipython",
    "version": 3
   },
   "file_extension": ".py",
   "mimetype": "text/x-python",
   "name": "python",
   "nbconvert_exporter": "python",
   "pygments_lexer": "ipython3",
   "version": "3.12.9"
  }
 },
 "nbformat": 4,
 "nbformat_minor": 2
}
