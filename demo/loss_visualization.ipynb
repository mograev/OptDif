{
 "cells": [
  {
   "cell_type": "markdown",
   "metadata": {},
   "source": [
    "This notebook visualizes loss curves obtained from the training of the LatentVAE."
   ]
  },
  {
   "cell_type": "code",
   "execution_count": null,
   "metadata": {},
   "outputs": [],
   "source": [
    "import pandas as pd\n",
    "import matplotlib.pyplot as plt"
   ]
  },
  {
   "cell_type": "code",
   "execution_count": null,
   "metadata": {},
   "outputs": [],
   "source": [
    "df = pd.read_csv('losses/latent_vae_v17_val_losses.csv')"
   ]
  },
  {
   "cell_type": "code",
   "execution_count": null,
   "metadata": {},
   "outputs": [],
   "source": [
    "# Perceptual and Reconstruction Losses\n",
    "fig, ax1 = plt.subplots(figsize=(10, 5))\n",
    "\n",
    "# reconstruction losses on the left axis\n",
    "ax1.plot(df['epoch'], df['val/rec_img_loss'],  label='Image Reconstruction Loss', color='green')\n",
    "ax1.plot(df['epoch'], df['val/rec_lat_loss'],  label='Latent Reconstruction Loss', color='green', linestyle='--')\n",
    "ax1.set_xlabel('Epoch')\n",
    "ax1.set_ylabel('Reconstruction Losses', color='green')\n",
    "ax1.tick_params(axis='y', colors='green')\n",
    "ax1.grid(True)\n",
    "\n",
    "# perceptual loss on the right axis\n",
    "ax2 = ax1.twinx()\n",
    "ax2.plot(df['epoch'], df['val/perc_img_loss'], label='Perceptual Loss', color='blue')\n",
    "ax2.set_ylabel('Perceptual Loss', color='blue')\n",
    "ax2.tick_params(axis='y', colors='blue')\n",
    "\n",
    "# combine legends\n",
    "lines1, labels1 = ax1.get_legend_handles_labels()\n",
    "lines2, labels2 = ax2.get_legend_handles_labels()\n",
    "ax1.legend(lines1 + lines2, labels1 + labels2, loc='upper right')\n",
    "\n",
    "plt.title('Validation Loss Over Epochs')\n",
    "plt.show()"
   ]
  },
  {
   "cell_type": "code",
   "execution_count": null,
   "metadata": {},
   "outputs": [],
   "source": [
    "import math\n",
    "\n",
    "# Load losses for the other model versions\n",
    "df_v16 = pd.read_csv('losses/latent_vae_v16_sj_val_losses.csv')\n",
    "df_v17 = pd.read_csv('losses/latent_vae_v17_val_losses.csv')\n",
    "df_v18 = pd.read_csv('losses/latent_vae_v18_val_losses.csv')\n",
    "df_v19 = pd.read_csv('losses/latent_vae_v19_val_losses.csv')\n",
    "df_v20 = pd.read_csv('losses/latent_vae_v20_val_losses.csv')\n",
    "\n",
    "# Preprocess disc loss (multiply with disc_active)\n",
    "df_v16['val/disc_loss'] = df_v16['val/disc_loss'] * df_v16['val/disc_active']\n",
    "df_v17['val/disc_loss'] = df_v17['val/disc_loss'] * df_v17['val/disc_active']\n",
    "df_v18['val/disc_loss'] = df_v18['val/disc_loss'] * df_v18['val/disc_active']\n",
    "df_v19['val/disc_loss'] = df_v19['val/disc_loss'] * df_v19['val/disc_active']\n",
    "df_v20['val/disc_loss'] = df_v20['val/disc_loss'] * df_v20['val/disc_active']\n",
    "\n",
    "# List of losses to plot\n",
    "loss_cols = [\n",
    "    'val/disc_loss', 'val/gen_loss', 'val/kl_loss', 'val/nll_loss',\n",
    "    'val/perc_img_loss', 'val/rec_img_loss', 'val/rec_lat_loss', 'val/total_loss'\n",
    "]\n",
    "\n",
    "# Create one subplot per loss\n",
    "n_cols = 2\n",
    "n_rows = math.ceil(len(loss_cols) / n_cols)\n",
    "fig, axes = plt.subplots(n_rows, n_cols, figsize=(10 * n_cols, 4 * n_rows), sharex=True)\n",
    "axes = axes.flatten()\n",
    "\n",
    "for ax, loss in zip(axes, loss_cols):\n",
    "    ax.plot(df_v16['step'], df_v16[loss], label='v16')\n",
    "    ax.plot(df_v17['step'], df_v17[loss], label='v17')\n",
    "    ax.plot(df_v18['step'], df_v18[loss], label='v18')\n",
    "    ax.plot(df_v19['step'], df_v19[loss], label='v19')\n",
    "    ax.plot(df_v20['step'], df_v20[loss], label='v20')\n",
    "    ax.grid(True)\n",
    "    ax.legend(loc='upper right')\n",
    "    ax.set_title(loss)\n",
    "\n",
    "axes[-1].set_xlabel('Steps')\n",
    "plt.tight_layout()\n",
    "plt.show()"
   ]
  }
 ],
 "metadata": {
  "kernelspec": {
   "display_name": "optdif1",
   "language": "python",
   "name": "python3"
  },
  "language_info": {
   "codemirror_mode": {
    "name": "ipython",
    "version": 3
   },
   "file_extension": ".py",
   "mimetype": "text/x-python",
   "name": "python",
   "nbconvert_exporter": "python",
   "pygments_lexer": "ipython3",
   "version": "3.12.9"
  }
 },
 "nbformat": 4,
 "nbformat_minor": 2
}
