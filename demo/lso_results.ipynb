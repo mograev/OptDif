{
 "cells": [
  {
   "cell_type": "markdown",
   "id": "86748da6",
   "metadata": {},
   "source": [
    "Show, analyze and visualize the LSO results."
   ]
  },
  {
   "cell_type": "code",
   "execution_count": null,
   "id": "52a2b967",
   "metadata": {},
   "outputs": [],
   "source": [
    "import numpy as np\n",
    "\n",
    "data_file = '/pfs/work9/workspace/scratch/ma_mgraevin-optdif/results/lso_dngo_03/bo/iter_0/data.npz'\n",
    "\n",
    "with np.load(data_file, allow_pickle=True) as npz:\n",
    "    print(npz.files)\n",
    "    X_train = npz['X_train'].astype(np.float32)\n",
    "    y_train = npz['y_train'].astype(np.float32)"
   ]
  },
  {
   "cell_type": "code",
   "execution_count": null,
   "id": "f8370a79",
   "metadata": {},
   "outputs": [],
   "source": [
    "# Display tensor (3, 265, 256) as image\n",
    "import matplotlib.pyplot as plt\n",
    "import numpy as np\n",
    "\n",
    "def show_tensor(tensor):\n",
    "    # Convert to numpy array\n",
    "    tensor = (tensor + 1) / 2\n",
    "    img = tensor.permute(1, 2, 0).numpy()\n",
    "    # Clip values to [0, 1]\n",
    "    img = np.clip(img, 0, 1)\n",
    "    # Display the image\n",
    "    plt.imshow(img)\n",
    "    plt.axis('off')\n",
    "    plt.show()"
   ]
  },
  {
   "cell_type": "code",
   "execution_count": null,
   "id": "e4daf190",
   "metadata": {},
   "outputs": [],
   "source": [
    "import torch\n",
    "\n",
    "tensor_0 = torch.load('/pfs/work9/workspace/scratch/ma_mgraevin-optdif/results/debug_10/data/samples/iter_0/img_tensor/tensor_4.pt', weights_only=False)\n",
    "\n",
    "show_tensor(tensor_0)"
   ]
  },
  {
   "cell_type": "code",
   "execution_count": null,
   "id": "8b5acbb9",
   "metadata": {},
   "outputs": [],
   "source": [
    "tensor_0.min(), tensor_0.max(), tensor_0.mean(), tensor_0.std()"
   ]
  },
  {
   "cell_type": "code",
   "execution_count": null,
   "id": "f6eba0cf",
   "metadata": {},
   "outputs": [],
   "source": [
    "# npz file to table\n",
    "import pandas as pd\n",
    "import numpy as np\n",
    "results = np.load(\"/pfs/work9/workspace/scratch/ma_mgraevin-optdif/results/lso_gp_01/results.npz\", allow_pickle=True)\n",
    "\n",
    "print(f\"Parameters: {results['params']}\")\n",
    "\n",
    "# Convert the npz file to a pandas DataFrame\n",
    "df = pd.DataFrame({\n",
    "    #'opt_points': list(results['opt_points']),\n",
    "    'opt_point_properties': list(results['opt_point_properties']),\n",
    "    #'opt_latent_points': list(results['opt_latent_points']),\n",
    "    #'opt_sd_latent_points': list(results['opt_sd_latent_points']),\n",
    "    'opt_model_version': list(results['opt_model_version']),\n",
    "})\n",
    "\n",
    "df"
   ]
  },
  {
   "cell_type": "code",
   "execution_count": null,
   "id": "a76ef113",
   "metadata": {},
   "outputs": [],
   "source": [
    "df_grouped = df.groupby('opt_model_version')['opt_point_properties'].apply(list).apply(lambda x: x[:5]).apply(pd.Series)\n",
    "df_grouped.columns = [f'tensor_{i}' for i in range(5)]\n",
    "df_grouped"
   ]
  },
  {
   "cell_type": "code",
   "execution_count": null,
   "id": "412961fb",
   "metadata": {},
   "outputs": [],
   "source": [
    "df_grouped_mean = df_grouped.mean(axis=1)\n",
    "df_grouped_mean = df_grouped_mean.reset_index()\n",
    "df_grouped_mean.columns = ['opt_model_version', 'mean']\n",
    "df_grouped_mean"
   ]
  },
  {
   "cell_type": "code",
   "execution_count": null,
   "id": "cc2d2b9d",
   "metadata": {},
   "outputs": [],
   "source": [
    "# group and extract mean, min, and max over the first 5 tensors\n",
    "df_grouped_stats = df_grouped.agg(['mean', 'min', 'max'], axis=1).reset_index()\n",
    "df_grouped_stats"
   ]
  },
  {
   "cell_type": "code",
   "execution_count": null,
   "id": "49ebfb42",
   "metadata": {},
   "outputs": [],
   "source": [
    "# visualize the mean values\n",
    "import matplotlib.pyplot as plt\n",
    "\n",
    "fig, ax = plt.subplots(figsize=(10, 6))\n",
    "ax.plot(df_grouped_mean['opt_model_version'], df_grouped_stats['mean'], marker='o', label='Mean')\n",
    "ax.fill_between(df_grouped_mean['opt_model_version'], df_grouped_stats['min'], df_grouped_stats['max'], alpha=0.2, label='Min-Max Range')\n",
    "ax.legend()\n",
    "ax.set_xlabel('Iteration')\n",
    "ax.set_ylabel('Values')\n",
    "ax.set_title('Mean Values of the five samples per Iteration')\n",
    "ax.set_ylim(0, 5)\n",
    "ax.axhline(y=1, color='red', linestyle='--')\n",
    "plt.xticks(ticks=range(len(df_grouped_mean['opt_model_version'])), labels=df_grouped_mean['opt_model_version'], rotation=45)\n",
    "plt.tight_layout()\n",
    "plt.show()"
   ]
  }
 ],
 "metadata": {
  "kernelspec": {
   "display_name": "optdif1",
   "language": "python",
   "name": "python3"
  },
  "language_info": {
   "codemirror_mode": {
    "name": "ipython",
    "version": 3
   },
   "file_extension": ".py",
   "mimetype": "text/x-python",
   "name": "python",
   "nbconvert_exporter": "python",
   "pygments_lexer": "ipython3",
   "version": "3.12.9"
  }
 },
 "nbformat": 4,
 "nbformat_minor": 5
}
